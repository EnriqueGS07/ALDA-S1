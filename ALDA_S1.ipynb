{
  "nbformat": 4,
  "nbformat_minor": 0,
  "metadata": {
    "colab": {
      "provenance": []
    },
    "kernelspec": {
      "name": "python3",
      "display_name": "Python 3"
    },
    "language_info": {
      "name": "python"
    }
  },
  "cells": [
    {
      "cell_type": "code",
      "execution_count": 2,
      "metadata": {
        "colab": {
          "base_uri": "https://localhost:8080/"
        },
        "id": "inSnw5BKALZ-",
        "outputId": "18ebfcab-e15c-4e40-fa67-c2c2b58bcbf2"
      },
      "outputs": [
        {
          "output_type": "stream",
          "name": "stdout",
          "text": [
            "Hello World!\n"
          ]
        }
      ],
      "source": [
        "print(\"Hello World!\")"
      ]
    },
    {
      "cell_type": "code",
      "source": [
        "#Function that generate random numbers in interval\n",
        "#size: quantity of number to generate\n",
        "#max: maximun number on the range for a random id\n",
        "#min: minimun number on the range for a random id\n",
        "from random import seed\n",
        "import random\n",
        "def random_numbers_interval(size, min, max):\n",
        "  for i in range(size):\n",
        "    value = random.randint(min,max)\n",
        "    print(value)\n",
        "random_numbers_interval(5,0,20);"
      ],
      "metadata": {
        "colab": {
          "base_uri": "https://localhost:8080/"
        },
        "id": "bimRGHiFBzw5",
        "outputId": "085cbdfb-962c-4003-edc6-0cd07cfb701b"
      },
      "execution_count": 23,
      "outputs": [
        {
          "output_type": "stream",
          "name": "stdout",
          "text": [
            "17\n",
            "7\n",
            "11\n",
            "7\n",
            "7\n"
          ]
        }
      ]
    },
    {
      "cell_type": "code",
      "source": [
        "#Function that generate random strings from sizes and alphabet\n",
        "#size:lenght of the string to generate\n",
        "import string\n",
        "def random_strings(size):\n",
        "  letters = string.ascii_letters\n",
        "  print(''.join(random.choice(letters) for _ in range(size)))\n",
        "random_strings(10)"
      ],
      "metadata": {
        "colab": {
          "base_uri": "https://localhost:8080/"
        },
        "id": "_89Cau5OF7IF",
        "outputId": "df71a0d9-679b-4c53-9ae6-1f44f175b34c"
      },
      "execution_count": 19,
      "outputs": [
        {
          "output_type": "stream",
          "name": "stdout",
          "text": [
            "XaSCrUZoLg\n"
          ]
        }
      ]
    },
    {
      "cell_type": "code",
      "source": [
        "#Function that generate random sets of IDs within interval\n",
        "#max: maximun number on the range for a random id\n",
        "#min: minimun number on the range for a random id\n",
        "#len: lenght of the set of ids\n",
        "from random import seed\n",
        "import random\n",
        "def random_id(min,max,len):\n",
        "  ids_set = []\n",
        "  for i in range(len):\n",
        "    value = random.randint(min,max)\n",
        "    ids_set += [value]\n",
        "  print(ids_set)\n",
        "random_id(0,10,5)"
      ],
      "metadata": {
        "colab": {
          "base_uri": "https://localhost:8080/"
        },
        "id": "_Gy5fAv7Oz6p",
        "outputId": "15525141-3088-442a-d88f-ceda5f6b1ecc"
      },
      "execution_count": 30,
      "outputs": [
        {
          "output_type": "stream",
          "name": "stdout",
          "text": [
            "[8, 6, 9, 0, 7]\n"
          ]
        }
      ]
    },
    {
      "cell_type": "code",
      "source": [
        "import string\n",
        "import random\n",
        "\n",
        "#Function that generate random sets of strings with some conditioons: valid emails\n",
        "#user_size: is the size of the user of the random email\n",
        "def random_email(user_size):\n",
        "  chars = string.ascii_letters + string.digits + \".\"\n",
        "  user = ''.join(random.choice(chars) for _ in range(user_size))\n",
        "  doms = [\"@gmail.com\", \"@hotmail.com\", \"@outlook.com\", \"@yahoo.com\", \"@mail.escuelaing.edu.co\", \"@escuelaing.edu.co\"]\n",
        "  print(user + random.choice(doms))\n",
        "\n",
        "random_email(10)\n"
      ],
      "metadata": {
        "colab": {
          "base_uri": "https://localhost:8080/"
        },
        "id": "xGdA018XW90h",
        "outputId": "0bb541cd-8223-45f9-f578-90463e1f59b2"
      },
      "execution_count": 53,
      "outputs": [
        {
          "output_type": "stream",
          "name": "stdout",
          "text": [
            "t68tVkAKqi@gmail.com\n"
          ]
        }
      ]
    },
    {
      "cell_type": "code",
      "source": [
        "import random\n",
        "# Function that generate a random address from Colombia\n",
        "def random_address():\n",
        "    specs = [\"cll \", \"cra \", \"trans \", \"dg \"]\n",
        "    s_lett = [\" \",\"a\",\"b\",\"c\",\"d\",\"e\",\"f\",\"g\",\"Bis\",\"a Bis\",\"b Bis\",\"c Bis\",\"d Bis\",\"e Bis\",\"f Bis\",\"g Bis\"]\n",
        "    lett = [\" \",\"a\",\"b\",\"c\", \"Bis\",\"a Bis\",\"b Bis\"]\n",
        "    first = random.randint(1,246)\n",
        "    if(first <= 77):\n",
        "      first =  str(first) + random.choice(s_lett)\n",
        "    else:\n",
        "      first = str(first) + random.choice(lett)\n",
        "    sec = random.randint(1,160)\n",
        "    sec = str(sec)+random.choice(lett)\n",
        "    thr = str(random.randint(1,200))\n",
        "    spec = random.choice(specs)\n",
        "    print(spec + first + \" #\" + sec + \"-\" + thr)\n",
        "    \n",
        "random_address()\n",
        "    \n"
      ],
      "metadata": {
        "colab": {
          "base_uri": "https://localhost:8080/"
        },
        "id": "JPx72avwcNON",
        "outputId": "153ab5e7-7228-405a-f3a7-5a593ccd7377"
      },
      "execution_count": 61,
      "outputs": [
        {
          "output_type": "stream",
          "name": "stdout",
          "text": [
            "cll 87c #55b-173\n"
          ]
        }
      ]
    }
  ]
}